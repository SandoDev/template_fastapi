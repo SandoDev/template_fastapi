{
 "cells": [
  {
   "cell_type": "markdown",
   "metadata": {},
   "source": [
    "# Model"
   ]
  },
  {
   "cell_type": "code",
   "execution_count": 61,
   "metadata": {},
   "outputs": [],
   "source": [
    "from datetime import datetime\n",
    "from uuid import uuid4\n",
    "from pydantic import BaseModel, Field\n",
    "from typing import List, Optional, Dict"
   ]
  },
  {
   "cell_type": "code",
   "execution_count": 44,
   "metadata": {},
   "outputs": [],
   "source": [
    "class DocumentBase(BaseModel):\n",
    "    uuid: str = Field(default=str(uuid4()),unique=True)\n",
    "    created_at: datetime = Field(default=datetime.now())\n",
    "    updated_at: Optional[datetime]"
   ]
  },
  {
   "cell_type": "code",
   "execution_count": 45,
   "metadata": {},
   "outputs": [],
   "source": [
    "doc = DocumentBase()\n",
    "doc2 = DocumentBase()"
   ]
  },
  {
   "cell_type": "code",
   "execution_count": 49,
   "metadata": {},
   "outputs": [
    {
     "data": {
      "text/plain": [
       "({'uuid': 'bcc4e88a-059b-432c-9a93-be0eb8fb55b7',\n",
       "  'created_at': datetime.datetime(2020, 11, 30, 14, 2, 7, 176905),\n",
       "  'updated_at': None},\n",
       " {'uuid': 'bcc4e88a-059b-432c-9a93-be0eb8fb55b7',\n",
       "  'created_at': datetime.datetime(2020, 11, 30, 14, 2, 7, 176905),\n",
       "  'updated_at': None})"
      ]
     },
     "execution_count": 49,
     "metadata": {},
     "output_type": "execute_result"
    }
   ],
   "source": [
    "doc.dict(),doc2.dict()"
   ]
  },
  {
   "cell_type": "code",
   "execution_count": 54,
   "metadata": {},
   "outputs": [],
   "source": [
    "class Model(DocumentBase):\n",
    "    tittle: str = Field(...)\n",
    "    values: List[str] = Field(...)"
   ]
  },
  {
   "cell_type": "code",
   "execution_count": 57,
   "metadata": {},
   "outputs": [],
   "source": [
    "mm = Model(tittle='uno', values=['asdf','asdf'])"
   ]
  },
  {
   "cell_type": "code",
   "execution_count": 59,
   "metadata": {},
   "outputs": [
    {
     "data": {
      "text/plain": [
       "{'uuid': 'bcc4e88a-059b-432c-9a93-be0eb8fb55b7',\n",
       " 'created_at': datetime.datetime(2020, 11, 30, 14, 2, 7, 176905),\n",
       " 'updated_at': None,\n",
       " 'tittle': 'uno',\n",
       " 'values': ['asdf', 'asdf']}"
      ]
     },
     "execution_count": 59,
     "metadata": {},
     "output_type": "execute_result"
    }
   ],
   "source": [
    "mm.dict()"
   ]
  },
  {
   "cell_type": "code",
   "execution_count": 79,
   "metadata": {},
   "outputs": [],
   "source": [
    "class DocumentBase(BaseModel):\n",
    "    uuid: str = Field(default=str(uuid4()))\n",
    "    created_at: datetime = Field(default=datetime.now())\n",
    "    updated_at: Optional[datetime]\n",
    "\n",
    "\n",
    "class Comment(BaseModel):\n",
    "    content: str = Field(...)\n",
    "    publish: bool = False\n",
    "\n",
    "\n",
    "class ModelOne(DocumentBase):\n",
    "    text: str\n",
    "    num: int = Field(...)\n",
    "    comment: Comment\n",
    "    values: List[str] = []\n",
    "\n",
    "    class Config:\n",
    "        orm_mode = True\n",
    "        collection_name = 'model_one'"
   ]
  },
  {
   "cell_type": "code",
   "execution_count": 80,
   "metadata": {},
   "outputs": [],
   "source": [
    "co = Comment(content='comentario')\n",
    "mo_one = ModelOne(text='sando',num=123,comment=co)"
   ]
  },
  {
   "cell_type": "code",
   "execution_count": 81,
   "metadata": {},
   "outputs": [
    {
     "data": {
      "text/plain": [
       "{'uuid': '6a9f8dd5-62dd-4086-938b-52516e8cd0db',\n",
       " 'created_at': datetime.datetime(2020, 11, 30, 14, 42, 16, 633100),\n",
       " 'updated_at': None,\n",
       " 'text': 'sando',\n",
       " 'num': 123,\n",
       " 'comment': {'content': 'comentario', 'publish': False},\n",
       " 'values': []}"
      ]
     },
     "execution_count": 81,
     "metadata": {},
     "output_type": "execute_result"
    }
   ],
   "source": [
    "mo_one.dict()"
   ]
  }
 ],
 "metadata": {
  "kernelspec": {
   "display_name": "Python 3",
   "language": "python",
   "name": "python3"
  },
  "language_info": {
   "codemirror_mode": {
    "name": "ipython",
    "version": 3
   },
   "file_extension": ".py",
   "mimetype": "text/x-python",
   "name": "python",
   "nbconvert_exporter": "python",
   "pygments_lexer": "ipython3",
   "version": "3.6.9"
  }
 },
 "nbformat": 4,
 "nbformat_minor": 4
}
